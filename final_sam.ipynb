{
 "cells": [
  {
   "attachments": {},
   "cell_type": "markdown",
   "metadata": {},
   "source": [
    "# <center> Are Haters Just Hating?: A Statistical Analysis of CSGO Pro Gamers\n",
    "<center> Sam Felsenfeld, Cindy Jia, Mark Levin </center>\n",
    "\n",
    "\n",
    "#\n",
    "### <center> What is Counterstrike: Global Offensive?</center>\n",
    "Counterstrike: Global Offensive - or CS:GO for short - is a multiplayer first-person shooter game with millions of active players. In a game of CS:GO, players compete to kill the opposing team in a virtual shootout while trying to complete objectives like planting or defusing a bomb. While the game itself is fairly competitive, it also boasts a large professional scene where the top players compete in five person teams to be the best in the world. Major tournaments take place almost every week, leading to a constant trove of player data and game statistics.\n",
    "\n",
    "<br>\n",
    "\n",
    "#### Player skill\n",
    "While there is often a clear consensus of which teams are the best during a given time period, the individual skill of players within these teams is often hard to connect to actual team performance: for example a team which has the consensus best player in the world at the time, Vitality, is currently ranked second behind Heroic, a team which has only a single player in the top 20 players of 2022. In a game like CS:GO, an individual's performance is often the deciding factor between winning and losing a match. When star players have slumps, there often seems to be a clear impact on team performance, leading to much criticism from the public.\n",
    "\n",
    "\n",
    "\n",
    "Public opinion can often be a misrepresentation of the actual performance of public figures. In this analysis, we aim to determine whether the public perception that a player is either at the top of their game or on their way out is actually reality, or just something that people like to overemphasize.\n",
    "\n",
    "## <center> Data Collection\n",
    "In order to perform our analysis, we will pull data from 3 different sources.  First will be the raw player data itself. The only source that keeps player level statistics for all CS:GO pro games is hltv.org, a forum devoted to following the game.\n",
    "The second data source we will be looking at is team ranking over time from esl.tv, a website devoted to ranking teams based on tournament wins. Each day the ESL api is updated with team rankings, making it extremely easy to scrape.\n",
    "The last data source we used was from liquipedia.net, a wikipedia like website that provides information on CS:GO players. In CS:GO, players have different roles depending on which kind of weapon they use the most.  Since these roles heavily skew performance, liquipedia was used to determine which role each player had."
   ]
  },
  {
   "cell_type": "code",
   "execution_count": 1,
   "metadata": {},
   "outputs": [],
   "source": [
    "import json\n",
    "import pandas as pd\n",
    "import numpy as np\n",
    "import matplotlib.pyplot as plt\n",
    "import datetime as dt\n",
    "import requests\n",
    "from bs4 import BeautifulSoup\n",
    "import re\n",
    "import threading\n",
    "from tqdm import tqdm\n",
    "from selenium import webdriver\n",
    "from time import time\n",
    "import os\n",
    "from scipy.stats import linregress"
   ]
  },
  {
   "attachments": {},
   "cell_type": "markdown",
   "metadata": {
    "collapsed": false,
    "pycharm": {
     "name": "#%% md\n"
    }
   },
   "source": [
    "## Scraping HLTV\n",
    "Unfortunately, hltv.org is extremely hard to scrape, as it is gated behind cloudflare and a mix of other security measures designed to combat bots trying to access the forum. In order to access the player data, we use Selenium, which fully emulates a browser. From hltv, we scrape a list of all CS:GO players, as well as performance statistics like kills and deaths for every pro CS:GO game ever played by visiting every player page. This step takes by far the longest, at around 3 hours to run even when multithreaded. For convenience, predownloaded pages are stored in the /scraped pages directory."
   ]
  },
  {
   "cell_type": "code",
   "execution_count": 3,
   "metadata": {
    "collapsed": false,
    "pycharm": {
     "name": "#%%\n"
    }
   },
   "outputs": [
    {
     "name": "stdout",
     "output_type": "stream",
     "text": [
      "List of hltv players already found\n"
     ]
    },
    {
     "name": "stderr",
     "output_type": "stream",
     "text": [
      "100%|██████████| 852/852 [00:00<00:00, 1370.26it/s]\n"
     ]
    },
    {
     "name": "stdout",
     "output_type": "stream",
     "text": [
      "Finished scraping\n"
     ]
    }
   ],
   "source": [
    "### A function to download player data given a list of urls\n",
    "def scrape_pages(pages, skip=True):\n",
    "    driver = webdriver.Firefox()\n",
    "    # skip downloading page if it is already found in ./scraped pages\n",
    "    for name in tqdm(pages):\n",
    "        t = time()\n",
    "        url = \"https://www.hltv.org/stats/players/matches/\" + name\n",
    "        if not skip or name.replace(\"/\",\"\") not in os.listdir(\"scraped pages\"):\n",
    "            driver.get(url)\n",
    "            html = driver.page_source\n",
    "            with open(\"scraped pages/{}\".format(name.replace(\"/\",\"\")),\"w\", encoding=\"utf-8\") as f:\n",
    "                f.write(html)\n",
    "                f.close()\n",
    "            print(\"Scraped {}, took {} seconds\".format(name,time()-t))\n",
    "    driver.close()\n",
    "\n",
    "# Download a list of pro CS:GO players from hltv\n",
    "def scrape_names():\n",
    "    # download player list if not already a local file\n",
    "    if \"players_page.html\" not in os.listdir(\".\"):\n",
    "        driver = webdriver.Firefox()\n",
    "        url = \"https://www.hltv.org/stats/players/\"\n",
    "        driver.get(url)\n",
    "        print(\"Scraping list of players\")\n",
    "        html = driver.page_source\n",
    "        with open(\"players_page.html\", \"w\", encoding=\"utf-8\") as f:\n",
    "            f.write(html)\n",
    "            f.close()\n",
    "        driver.close()\n",
    "    else:\n",
    "        print(\"List of hltv players already found\")\n",
    "\n",
    "# Credit: https://stackoverflow.com/questions/312443/how-do-i-split-a-list-into-equally-sized-chunks\n",
    "# Simple function to split a list into evenly sized chunks\n",
    "def chunks(lst, n):\n",
    "    n = int(len(lst)/n)+1\n",
    "    for i in range(0, len(lst), n):\n",
    "        yield lst[i:i + n]\n",
    "\n",
    "# Function to scrape hltv\n",
    "def scrape_hltv():\n",
    "    n = 1 # number of threads, increasing threads didn't seem to decrease time on my weak computer\n",
    "    scrape_names() # get player names and save\n",
    "    pages = get_player_list(\"players_page.html\") # read in player names\n",
    "    threads = [threading.Thread(target=scrape_pages, args=([subset])) for subset in chunks(pages,n)]\n",
    "    for t in threads:\n",
    "        t.start()\n",
    "    for t in threads:\n",
    "        t.join()\n",
    "    print(\"Finished scraping\")\n",
    "\n",
    "# Find a list of players from the hltv html page\n",
    "def get_player_list(filename):\n",
    "    with open(filename, 'r', encoding='utf-8') as f:\n",
    "        bs = BeautifulSoup(f, features='lxml')\n",
    "        rows = bs.find('table')\n",
    "        pattern = r\"/stats/players/(.*?)?\\\"\"\n",
    "        return re.findall(pattern, str(rows))\n",
    "\n",
    "scrape_hltv() ### Scrape all of hltv player data"
   ]
  },
  {
   "attachments": {},
   "cell_type": "markdown",
   "metadata": {
    "collapsed": false,
    "pycharm": {
     "name": "#%% md\n"
    }
   },
   "source": [
    "Here we take all of the scraped html pages and do some light data cleaning to combine them all into one large dataframe, which we then save to a csv for easier use, this takes about 20 minutes to run. Each entry in the resulting dataframe will correspond to a player's performance in a single game. We also precompute some useful stats like kill-to-death ratio which we will later use."
   ]
  },
  {
   "cell_type": "code",
   "execution_count": 4,
   "metadata": {
    "collapsed": false,
    "pycharm": {
     "name": "#%%\n"
    }
   },
   "outputs": [
    {
     "name": "stdout",
     "output_type": "stream",
     "text": [
      "Processed games already found, skipping\n"
     ]
    }
   ],
   "source": [
    "### Load data into dataframe from scraped html\n",
    "# Skip of the processed csv is already present to save time\n",
    "if \"all games processed.csv\" not in os.listdir(\".\"):\n",
    "    dfs = []\n",
    "    for name in tqdm(os.listdir(\"scraped pages\")):\n",
    "        with open(\"scraped pages/\"+name,'r') as f:\n",
    "            try:\n",
    "                bs = BeautifulSoup(f, features='lxml')\n",
    "                rows = bs.find('table')\n",
    "                df = pd.read_html(str(rows))[0]\n",
    "                df = df.drop(df.columns[-2:], axis=1)\n",
    "                df.columns=[\"Date\", \"Player team\", \"Opponent\", \"Map\", \"kd\", \"pm\", \"rating\"]\n",
    "                df[\"player name\"] = re.sub(\"[0-9]*\",\"\", name) # Remove all numbers from player pages\n",
    "                # This has the side effect of turning names like s1mple into smple\n",
    "\n",
    "                dfs.append(df)\n",
    "            except: # if there is an error in reading, we skip\n",
    "                print(\"Skipping {}\".format(name))\n",
    "            f.close()\n",
    "\n",
    "    full_frame = pd.concat(dfs, ignore_index=True)\n",
    "\n",
    "    def get_kd(s):\n",
    "        a = s.split(\" - \")\n",
    "        a[1] = 1 if int(a[1]) == 0 else int(a[1])\n",
    "        return int(a[0])/int(a[1])\n",
    "\n",
    "    # We store the kd ratio\n",
    "    full_frame[\"kd ratio\"] = full_frame[\"kd\"].apply(get_kd)\n",
    "\n",
    "    # Extract rounds won from hltv format\n",
    "    full_frame[\"rounds won\"] = full_frame[\"Player team\"].apply(lambda s: int(s[-3:-1].replace(\"(\",\"\")))\n",
    "    # Extract rounds lost\n",
    "    full_frame[\"rounds lost\"] = full_frame[\"Opponent\"].apply(lambda s: int(s[-3:-1].replace(\"(\",\"\")))\n",
    "    # Extract player team\n",
    "    full_frame[\"Player team\"] = full_frame[\"Player team\"].apply(lambda s: s[:-4].strip())\n",
    "    # Extract opponent team\n",
    "    full_frame[\"Opponent\"] = full_frame[\"Opponent\"].apply(lambda s: s[:-4].strip())\n",
    "    # Find total rounds player\n",
    "    full_frame[\"Total rounds\"] = full_frame[\"rounds won\"] + full_frame[\"rounds lost\"]\n",
    "    # Some old ratings have a * to indicate a different system, we strip this\n",
    "    full_frame['rating'] = full_frame['rating'].apply(lambda s: float(s.replace(\"*\", \"\")))\n",
    "    # Find if the player won the game\n",
    "    full_frame['win'] = full_frame['rounds won'] > full_frame['rounds lost']\n",
    "    # Map wins to 1 or -1\n",
    "    full_frame['win'] = full_frame['win'].apply(lambda s: 1 if s else -1)\n",
    "    full_frame.to_csv(\"all games processed.csv\") # Save our csv\n",
    "else:\n",
    "    print(\"Processed games already found, skipping\")"
   ]
  },
  {
   "attachments": {},
   "cell_type": "markdown",
   "metadata": {
    "collapsed": false,
    "pycharm": {
     "name": "#%% md\n"
    }
   },
   "source": [
    "## Scraping team rankings and Imputation\n",
    "Scraping data from pro.eslgaming.com/worldranking/csgo/rankings/ is much easier since they provide an API that responds to date queries with json containing a list of team rankings on that day. In order to download data we just query the days we are interested in.  We store the data in a dictionary that takes in team name and returns another dictionary that takes in a particular date in order to determine rank.  Additionally, some days have missing rankings, so if possible we imputate the missing data with a simple linear regression between two surrounding data points in time."
   ]
  },
  {
   "cell_type": "code",
   "execution_count": 2,
   "metadata": {
    "collapsed": false,
    "pycharm": {
     "name": "#%%\n"
    }
   },
   "outputs": [
    {
     "name": "stdout",
     "output_type": "stream",
     "text": [
      "found team rankings file, reading\n"
     ]
    }
   ],
   "source": [
    "### Scrape all team rankings and put it in a big dictionary ###\n",
    "if \"team_rankings.json\" not in os.listdir(\".\"):\n",
    "    url = \"https://cdn1.api.esl.tv/csgo/worldranking/teamhistory/rankings?date=\"\n",
    "    rankings_team_date = {}\n",
    "    # Come up with our date range, starting in 2016 and ending at modern day\n",
    "    dates = pd.date_range(start=\"2015-12-28\", end=\"2023-5-8\")\n",
    "    for date in tqdm(dates):\n",
    "        # make our json query\n",
    "        r = requests.get(url + date.strftime(\"%y-%m-%d\"))\n",
    "        try:\n",
    "            for team in r.json()[\"items\"]:\n",
    "                try: # append this ranking to our team's dictionary at this date\n",
    "                    rankings_team_date[team[\"teaminfo\"][\"name\"]][date.strftime(\"%y-%m-%d\")] = team[\"power_rank\"]\n",
    "                except: # We need to make a new entry for team\n",
    "                    rankings_team_date[team[\"teaminfo\"][\"name\"]] = {}\n",
    "                    rankings_team_date[team[\"teaminfo\"][\"name\"]][date.strftime(\"%y-%m-%d\")] = team[\"power_rank\"]\n",
    "        except: # sometimes a day is not recorded\n",
    "            ...\n",
    "    with open(\"team_rankings.json\",\"w\") as f:\n",
    "        json.dump(rankings_team_date, f)\n",
    "\n",
    "else:\n",
    "    print(\"found team rankings file, reading\")\n",
    "    with open(\"team_rankings.json\",'r') as f:\n",
    "        rankings_team_date = json.load(f)"
   ]
  },
  {
   "attachments": {},
   "cell_type": "markdown",
   "metadata": {
    "collapsed": false,
    "pycharm": {
     "name": "#%% md\n"
    }
   },
   "source": [
    "## Data cleaning for ranking\n",
    "Because the ESL data contains many days where there is no ranking, we use linear interpolation in order to determine what a team rank for unreported days is.  This is done by for each team and for each missing data point, we fit a line to the two datapoints before and after the missing one.  We fill in the missing vlaues according to what this linear model predicts."
   ]
  },
  {
   "cell_type": "code",
   "execution_count": 2,
   "metadata": {
    "collapsed": false,
    "pycharm": {
     "name": "#%%\n"
    }
   },
   "outputs": [
    {
     "name": "stdout",
     "output_type": "stream",
     "text": [
      "Found ranking file\n"
     ]
    }
   ],
   "source": [
    "### Clean and fill in missing data with linear interpolation\n",
    "if \"team_rankings_fixed.json\" not in os.listdir(\".\"):\n",
    "    missing_points = 0\n",
    "    for team in tqdm(rankings_team_date.keys()):\n",
    "        fixed_rankings = {}\n",
    "        ranking = rankings_team_date[team]\n",
    "\n",
    "        keys = list(ranking.keys())\n",
    "        for i in range(len(keys) - 1):\n",
    "            delta = pd.to_datetime(keys[i+1], yearfirst=True) - pd.to_datetime(keys[i], yearfirst=True)\n",
    "            if 1 < delta.days < 60:\n",
    "                slope = (ranking[keys[i+1]] - ranking[keys[i]])/delta.days\n",
    "                start_date = pd.to_datetime(keys[i], yearfirst=True)\n",
    "                for j in range(0,delta.days+1):\n",
    "                    target_date = start_date + pd.Timedelta(j,'d')\n",
    "                    fixed_rankings[target_date.strftime(\"%y-%m-%d\")] = int(slope * j + ranking[keys[i]])\n",
    "                missing_points += 1\n",
    "            else:\n",
    "                fixed_rankings[keys[i]] = ranking[keys[i]]\n",
    "        try:\n",
    "            fixed_rankings[keys[i+1]] = ranking[keys[i+1]]\n",
    "        except: #Teams with only one match played\n",
    "            ...\n",
    "        rankings_team_date[team] = fixed_rankings\n",
    "\n",
    "    with open(\"team_rankings_fixed.json\",\"w\") as f:\n",
    "        json.dump(rankings_team_date, f)\n",
    "else:\n",
    "    with open(\"team_rankings_fixed.json\", 'r') as f:\n",
    "        rankings_team_date = json.load(f)\n",
    "        print(\"Found ranking file\")"
   ]
  },
  {
   "attachments": {},
   "cell_type": "markdown",
   "metadata": {
    "collapsed": false,
    "pycharm": {
     "name": "#%% md\n"
    }
   },
   "source": [
    "## Lookup function\n",
    "Here we define a function to lookup a team ranking for a given day. Since the ESL team names don't match 1 to 1 with the hltv database, we look for team names that are close in order to determine what series to look at."
   ]
  },
  {
   "cell_type": "code",
   "execution_count": 3,
   "metadata": {
    "collapsed": false,
    "pycharm": {
     "name": "#%%\n"
    }
   },
   "outputs": [
    {
     "ename": "NameError",
     "evalue": "name 'df' is not defined",
     "output_type": "error",
     "traceback": [
      "\u001b[1;31m---------------------------------------------------------------------------\u001b[0m",
      "\u001b[1;31mNameError\u001b[0m                                 Traceback (most recent call last)",
      "Cell \u001b[1;32mIn[3], line 15\u001b[0m\n\u001b[0;32m     12\u001b[0m     \u001b[38;5;28;01mreturn\u001b[39;00m val\n\u001b[0;32m     14\u001b[0m \u001b[38;5;66;03m### Example of adding in the team ranking for Faze\u001b[39;00m\n\u001b[1;32m---> 15\u001b[0m sub \u001b[38;5;241m=\u001b[39m \u001b[43mdf\u001b[49m[df[\u001b[38;5;124m\"\u001b[39m\u001b[38;5;124mPlayer team\u001b[39m\u001b[38;5;124m\"\u001b[39m] \u001b[38;5;241m==\u001b[39m \u001b[38;5;124m\"\u001b[39m\u001b[38;5;124mFaZe\u001b[39m\u001b[38;5;124m\"\u001b[39m]\n\u001b[0;32m     16\u001b[0m sub[\u001b[38;5;124m\"\u001b[39m\u001b[38;5;124mrank\u001b[39m\u001b[38;5;124m\"\u001b[39m] \u001b[38;5;241m=\u001b[39m sub[\u001b[38;5;124m\"\u001b[39m\u001b[38;5;124mDate\u001b[39m\u001b[38;5;124m\"\u001b[39m]\u001b[38;5;241m.\u001b[39mapply(\u001b[38;5;28;01mlambda\u001b[39;00m x: lookup_ranking(\u001b[38;5;124m\"\u001b[39m\u001b[38;5;124mFaZe\u001b[39m\u001b[38;5;124m\"\u001b[39m, x))\n\u001b[0;32m     17\u001b[0m sub\u001b[38;5;241m.\u001b[39mhead()\n",
      "\u001b[1;31mNameError\u001b[0m: name 'df' is not defined"
     ]
    }
   ],
   "source": [
    "### Function to lookup a team ranking at a specific date\n",
    "def lookup_ranking(team, date):\n",
    "    match = \"\"\n",
    "    for name in rankings_team_date.keys():\n",
    "        if team.lower() in name.lower() or name.lower() in team.lower():\n",
    "            match = name\n",
    "    d = pd.to_datetime(date,dayfirst=True)\n",
    "    try:\n",
    "        val = rankings_team_date[match][d.strftime(\"%y-%m-%d\")]\n",
    "    except:\n",
    "        val = int(np.mean(rankings_team_date[match].values()))\n",
    "    return val\n",
    "\n",
    "### Example of adding in the team ranking for Faze\n",
    "sub = df[df[\"Player team\"] == \"FaZe\"]\n",
    "sub[\"rank\"] = sub[\"Date\"].apply(lambda x: lookup_ranking(\"FaZe\", x))\n",
    "sub.head()"
   ]
  },
  {
   "attachments": {},
   "cell_type": "markdown",
   "metadata": {
    "collapsed": false,
    "pycharm": {
     "name": "#%% md\n"
    }
   },
   "source": [
    "## Scraping Role List\n",
    "Here we scrape a list of all players who use the sniper weapon from liquipedia, this weapon is more difficult to obtain and more powerful, so usually there is only one player who uses it in each pro team. This data is needed to account for the corresponding difference in performance."
   ]
  },
  {
   "cell_type": "code",
   "execution_count": 4,
   "metadata": {
    "pycharm": {
     "name": "#%%\n"
    }
   },
   "outputs": [],
   "source": [
    "### Get a list of awpers from liquipedia\n",
    "### Getting awpers\n",
    "urls = [\"https://liquipedia.net/counterstrike/Category:AWPers\",\n",
    "        \"https://liquipedia.net/counterstrike/index.php?title=Category:AWPers&pagefrom=Galantis#mw-pages\",\n",
    "        \"https://liquipedia.net/counterstrike/index.php?title=Category:AWPers&pagefrom=Powell#mw-pages\"]\n",
    "\n",
    "awpers = {\"~~~~\"} # Create a lookup table of awpers\n",
    "for url in urls:\n",
    "    res = requests.get(url)\n",
    "    bs = BeautifulSoup(res.content)\n",
    "    ### Toggle system to only get from first to last player on each page\n",
    "    toggle = False\n",
    "    for l in bs.find_all(\"a\"):\n",
    "        if \"Ace\" in l.get('href') or \"/Galantis\" in l.get('href') or \"/Powell\" in l.get('href'):\n",
    "            toggle=True\n",
    "        if toggle:\n",
    "            # When adding names of awpers to the table, we are extremely loose with what counts\n",
    "            # adding several variations to make sure that when we lookup names from different data\n",
    "            # sources we garuntee a match if we should have one.\n",
    "            s = l.get('href')[15:].lower()\n",
    "            awpers.add(s) # Add base name\n",
    "            if \"_\" in s:\n",
    "                s = s[:s.find(\"_\")] # add name with extra annotations removed\n",
    "            awpers.add(s)\n",
    "            s = re.sub(r'[^a-zA-Z0-9]', '', s)# Remove extra characters\n",
    "            awpers.add(s)\n",
    "        if \"Gafolo\" in l.get('href') or \"Potei\" in l.get('href') or \"ZywOo\" in l.get('href'):\n",
    "            toggle=False\n",
    "\n",
    "# Dump data to a json file for future reference\n",
    "with open(\"awpers.json\", 'w') as file:\n",
    "    json.dump(list(awpers), file)\n",
    "    "
   ]
  },
  {
   "attachments": {},
   "cell_type": "markdown",
   "metadata": {},
   "source": [
    "## <center> Data Processing\n",
    "\n",
    "Here we read in our previously generated data frame and start to combine it with our other data, adding in data for player role."
   ]
  },
  {
   "cell_type": "code",
   "execution_count": 5,
   "metadata": {},
   "outputs": [
    {
     "data": {
      "text/html": [
       "<div>\n",
       "<style scoped>\n",
       "    .dataframe tbody tr th:only-of-type {\n",
       "        vertical-align: middle;\n",
       "    }\n",
       "\n",
       "    .dataframe tbody tr th {\n",
       "        vertical-align: top;\n",
       "    }\n",
       "\n",
       "    .dataframe thead th {\n",
       "        text-align: right;\n",
       "    }\n",
       "</style>\n",
       "<table border=\"1\" class=\"dataframe\">\n",
       "  <thead>\n",
       "    <tr style=\"text-align: right;\">\n",
       "      <th></th>\n",
       "      <th>Date</th>\n",
       "      <th>Player team</th>\n",
       "      <th>Opponent</th>\n",
       "      <th>Map</th>\n",
       "      <th>kd</th>\n",
       "      <th>pm</th>\n",
       "      <th>rating</th>\n",
       "      <th>player name</th>\n",
       "      <th>kd ratio</th>\n",
       "      <th>rounds won</th>\n",
       "      <th>rounds lost</th>\n",
       "      <th>Total rounds</th>\n",
       "      <th>Awper</th>\n",
       "    </tr>\n",
       "  </thead>\n",
       "  <tbody>\n",
       "    <tr>\n",
       "      <th>0</th>\n",
       "      <td>31/10/20</td>\n",
       "      <td>Golden Knights</td>\n",
       "      <td>Lyngby Vikings</td>\n",
       "      <td>nuke</td>\n",
       "      <td>17 - 21</td>\n",
       "      <td>-4</td>\n",
       "      <td>0.83</td>\n",
       "      <td>fitch</td>\n",
       "      <td>0.809524</td>\n",
       "      <td>13</td>\n",
       "      <td>16</td>\n",
       "      <td>29</td>\n",
       "      <td>False</td>\n",
       "    </tr>\n",
       "    <tr>\n",
       "      <th>1</th>\n",
       "      <td>31/10/20</td>\n",
       "      <td>Golden Knights</td>\n",
       "      <td>Lyngby Vikings</td>\n",
       "      <td>mrg</td>\n",
       "      <td>14 - 20</td>\n",
       "      <td>-6</td>\n",
       "      <td>0.77</td>\n",
       "      <td>fitch</td>\n",
       "      <td>0.700000</td>\n",
       "      <td>16</td>\n",
       "      <td>12</td>\n",
       "      <td>28</td>\n",
       "      <td>False</td>\n",
       "    </tr>\n",
       "    <tr>\n",
       "      <th>2</th>\n",
       "      <td>19/5/20</td>\n",
       "      <td>Syman</td>\n",
       "      <td>SG.pro</td>\n",
       "      <td>trn</td>\n",
       "      <td>8 - 20</td>\n",
       "      <td>-12</td>\n",
       "      <td>0.56</td>\n",
       "      <td>fitch</td>\n",
       "      <td>0.400000</td>\n",
       "      <td>13</td>\n",
       "      <td>16</td>\n",
       "      <td>29</td>\n",
       "      <td>False</td>\n",
       "    </tr>\n",
       "    <tr>\n",
       "      <th>3</th>\n",
       "      <td>19/5/20</td>\n",
       "      <td>Syman</td>\n",
       "      <td>SG.pro</td>\n",
       "      <td>mrg</td>\n",
       "      <td>11 - 18</td>\n",
       "      <td>-7</td>\n",
       "      <td>0.61</td>\n",
       "      <td>fitch</td>\n",
       "      <td>0.611111</td>\n",
       "      <td>10</td>\n",
       "      <td>16</td>\n",
       "      <td>26</td>\n",
       "      <td>False</td>\n",
       "    </tr>\n",
       "    <tr>\n",
       "      <th>4</th>\n",
       "      <td>18/5/20</td>\n",
       "      <td>Syman</td>\n",
       "      <td>LDLC</td>\n",
       "      <td>d2</td>\n",
       "      <td>13 - 19</td>\n",
       "      <td>-6</td>\n",
       "      <td>0.87</td>\n",
       "      <td>fitch</td>\n",
       "      <td>0.684211</td>\n",
       "      <td>11</td>\n",
       "      <td>16</td>\n",
       "      <td>27</td>\n",
       "      <td>False</td>\n",
       "    </tr>\n",
       "    <tr>\n",
       "      <th>...</th>\n",
       "      <td>...</td>\n",
       "      <td>...</td>\n",
       "      <td>...</td>\n",
       "      <td>...</td>\n",
       "      <td>...</td>\n",
       "      <td>...</td>\n",
       "      <td>...</td>\n",
       "      <td>...</td>\n",
       "      <td>...</td>\n",
       "      <td>...</td>\n",
       "      <td>...</td>\n",
       "      <td>...</td>\n",
       "      <td>...</td>\n",
       "    </tr>\n",
       "    <tr>\n",
       "      <th>748822</th>\n",
       "      <td>9/11/15</td>\n",
       "      <td>eSuba</td>\n",
       "      <td>neXtPlease!</td>\n",
       "      <td>cch</td>\n",
       "      <td>16 - 22</td>\n",
       "      <td>-6</td>\n",
       "      <td>0.80</td>\n",
       "      <td>montty</td>\n",
       "      <td>0.727273</td>\n",
       "      <td>11</td>\n",
       "      <td>16</td>\n",
       "      <td>27</td>\n",
       "      <td>False</td>\n",
       "    </tr>\n",
       "    <tr>\n",
       "      <th>748823</th>\n",
       "      <td>9/11/15</td>\n",
       "      <td>eSuba</td>\n",
       "      <td>neXtPlease!</td>\n",
       "      <td>inf</td>\n",
       "      <td>19 - 18</td>\n",
       "      <td>1</td>\n",
       "      <td>1.06</td>\n",
       "      <td>montty</td>\n",
       "      <td>1.055556</td>\n",
       "      <td>16</td>\n",
       "      <td>10</td>\n",
       "      <td>26</td>\n",
       "      <td>False</td>\n",
       "    </tr>\n",
       "    <tr>\n",
       "      <th>748824</th>\n",
       "      <td>7/11/15</td>\n",
       "      <td>eSuba</td>\n",
       "      <td>nEophyte</td>\n",
       "      <td>inf</td>\n",
       "      <td>17 - 17</td>\n",
       "      <td>0</td>\n",
       "      <td>0.95</td>\n",
       "      <td>montty</td>\n",
       "      <td>1.000000</td>\n",
       "      <td>9</td>\n",
       "      <td>16</td>\n",
       "      <td>25</td>\n",
       "      <td>False</td>\n",
       "    </tr>\n",
       "    <tr>\n",
       "      <th>748825</th>\n",
       "      <td>7/11/15</td>\n",
       "      <td>eSuba</td>\n",
       "      <td>nEophyte</td>\n",
       "      <td>cch</td>\n",
       "      <td>21 - 20</td>\n",
       "      <td>1</td>\n",
       "      <td>1.05</td>\n",
       "      <td>montty</td>\n",
       "      <td>1.050000</td>\n",
       "      <td>11</td>\n",
       "      <td>16</td>\n",
       "      <td>27</td>\n",
       "      <td>False</td>\n",
       "    </tr>\n",
       "    <tr>\n",
       "      <th>748826</th>\n",
       "      <td>7/11/15</td>\n",
       "      <td>eSuba</td>\n",
       "      <td>nEophyte</td>\n",
       "      <td>mrg</td>\n",
       "      <td>23 - 10</td>\n",
       "      <td>13</td>\n",
       "      <td>1.80</td>\n",
       "      <td>montty</td>\n",
       "      <td>2.300000</td>\n",
       "      <td>16</td>\n",
       "      <td>4</td>\n",
       "      <td>20</td>\n",
       "      <td>False</td>\n",
       "    </tr>\n",
       "  </tbody>\n",
       "</table>\n",
       "<p>748827 rows × 13 columns</p>\n",
       "</div>"
      ],
      "text/plain": [
       "            Date     Player team        Opponent   Map       kd  pm  rating  \\\n",
       "0       31/10/20  Golden Knights  Lyngby Vikings  nuke  17 - 21  -4    0.83   \n",
       "1       31/10/20  Golden Knights  Lyngby Vikings   mrg  14 - 20  -6    0.77   \n",
       "2        19/5/20           Syman          SG.pro   trn   8 - 20 -12    0.56   \n",
       "3        19/5/20           Syman          SG.pro   mrg  11 - 18  -7    0.61   \n",
       "4        18/5/20           Syman            LDLC    d2  13 - 19  -6    0.87   \n",
       "...          ...             ...             ...   ...      ...  ..     ...   \n",
       "748822   9/11/15           eSuba     neXtPlease!   cch  16 - 22  -6    0.80   \n",
       "748823   9/11/15           eSuba     neXtPlease!   inf  19 - 18   1    1.06   \n",
       "748824   7/11/15           eSuba        nEophyte   inf  17 - 17   0    0.95   \n",
       "748825   7/11/15           eSuba        nEophyte   cch  21 - 20   1    1.05   \n",
       "748826   7/11/15           eSuba        nEophyte   mrg  23 - 10  13    1.80   \n",
       "\n",
       "       player name  kd ratio  rounds won  rounds lost  Total rounds  Awper  \n",
       "0            fitch  0.809524          13           16            29  False  \n",
       "1            fitch  0.700000          16           12            28  False  \n",
       "2            fitch  0.400000          13           16            29  False  \n",
       "3            fitch  0.611111          10           16            26  False  \n",
       "4            fitch  0.684211          11           16            27  False  \n",
       "...            ...       ...         ...          ...           ...    ...  \n",
       "748822      montty  0.727273          11           16            27  False  \n",
       "748823      montty  1.055556          16           10            26  False  \n",
       "748824      montty  1.000000           9           16            25  False  \n",
       "748825      montty  1.050000          11           16            27  False  \n",
       "748826      montty  2.300000          16            4            20  False  \n",
       "\n",
       "[748827 rows x 13 columns]"
      ]
     },
     "execution_count": 5,
     "metadata": {},
     "output_type": "execute_result"
    }
   ],
   "source": [
    "df = pd.read_csv(\"all games processed.csv\", sep=',')\n",
    "with open('awpers.json') as file:\n",
    "    awpers = json.load(file)\n",
    "df= df.drop('Unnamed: 0', axis=1)\n",
    "\n",
    "# cleaning data and labeling awpers\n",
    "df['rating'] = df['rating'].apply(lambda s: float(s.replace(\"*\", \"\")))\n",
    "df['Awper'] = df['player name'].apply(lambda s: s in awpers)\n",
    "df"
   ]
  },
  {
   "cell_type": "code",
   "execution_count": 6,
   "metadata": {},
   "outputs": [],
   "source": [
    "players = df['player name'].unique()\n",
    "teams = df['Player team'].unique()"
   ]
  },
  {
   "cell_type": "code",
   "execution_count": 7,
   "metadata": {},
   "outputs": [
    {
     "data": {
      "text/html": [
       "<div>\n",
       "<style scoped>\n",
       "    .dataframe tbody tr th:only-of-type {\n",
       "        vertical-align: middle;\n",
       "    }\n",
       "\n",
       "    .dataframe tbody tr th {\n",
       "        vertical-align: top;\n",
       "    }\n",
       "\n",
       "    .dataframe thead th {\n",
       "        text-align: right;\n",
       "    }\n",
       "</style>\n",
       "<table border=\"1\" class=\"dataframe\">\n",
       "  <thead>\n",
       "    <tr style=\"text-align: right;\">\n",
       "      <th></th>\n",
       "      <th>Date</th>\n",
       "      <th>Player team</th>\n",
       "      <th>Opponent</th>\n",
       "      <th>Map</th>\n",
       "      <th>kd</th>\n",
       "      <th>pm</th>\n",
       "      <th>rating</th>\n",
       "      <th>player name</th>\n",
       "      <th>kd ratio</th>\n",
       "      <th>rounds won</th>\n",
       "      <th>rounds lost</th>\n",
       "      <th>Total rounds</th>\n",
       "      <th>Awper</th>\n",
       "      <th>round difference</th>\n",
       "    </tr>\n",
       "  </thead>\n",
       "  <tbody>\n",
       "    <tr>\n",
       "      <th>380533</th>\n",
       "      <td>2012-01-11</td>\n",
       "      <td>dotpiXels</td>\n",
       "      <td>CPLAY</td>\n",
       "      <td>mrg</td>\n",
       "      <td>15 - 16</td>\n",
       "      <td>-1</td>\n",
       "      <td>0.87</td>\n",
       "      <td>legija</td>\n",
       "      <td>0.937500</td>\n",
       "      <td>16</td>\n",
       "      <td>6</td>\n",
       "      <td>22</td>\n",
       "      <td>False</td>\n",
       "      <td>10</td>\n",
       "    </tr>\n",
       "    <tr>\n",
       "      <th>474590</th>\n",
       "      <td>2012-01-11</td>\n",
       "      <td>gamed!de</td>\n",
       "      <td>iPLAY</td>\n",
       "      <td>trn</td>\n",
       "      <td>22 - 12</td>\n",
       "      <td>10</td>\n",
       "      <td>1.47</td>\n",
       "      <td>syrson</td>\n",
       "      <td>1.833333</td>\n",
       "      <td>16</td>\n",
       "      <td>7</td>\n",
       "      <td>23</td>\n",
       "      <td>True</td>\n",
       "      <td>9</td>\n",
       "    </tr>\n",
       "    <tr>\n",
       "      <th>469648</th>\n",
       "      <td>2012-01-11</td>\n",
       "      <td>ALTERNATE aTTaX</td>\n",
       "      <td>CPLAY</td>\n",
       "      <td>trn</td>\n",
       "      <td>15 - 12</td>\n",
       "      <td>3</td>\n",
       "      <td>0.96</td>\n",
       "      <td>krystal</td>\n",
       "      <td>1.250000</td>\n",
       "      <td>16</td>\n",
       "      <td>9</td>\n",
       "      <td>25</td>\n",
       "      <td>False</td>\n",
       "      <td>7</td>\n",
       "    </tr>\n",
       "    <tr>\n",
       "      <th>438636</th>\n",
       "      <td>2012-01-11</td>\n",
       "      <td>dotpiXels</td>\n",
       "      <td>CPLAY</td>\n",
       "      <td>mrg</td>\n",
       "      <td>32 - 13</td>\n",
       "      <td>19</td>\n",
       "      <td>2.19</td>\n",
       "      <td>tabsen</td>\n",
       "      <td>2.461538</td>\n",
       "      <td>16</td>\n",
       "      <td>6</td>\n",
       "      <td>22</td>\n",
       "      <td>False</td>\n",
       "      <td>10</td>\n",
       "    </tr>\n",
       "    <tr>\n",
       "      <th>485888</th>\n",
       "      <td>2012-01-12</td>\n",
       "      <td>BuyKey</td>\n",
       "      <td>ESC</td>\n",
       "      <td>inf</td>\n",
       "      <td>26 - 16</td>\n",
       "      <td>10</td>\n",
       "      <td>1.57</td>\n",
       "      <td>scream</td>\n",
       "      <td>1.625000</td>\n",
       "      <td>16</td>\n",
       "      <td>7</td>\n",
       "      <td>23</td>\n",
       "      <td>False</td>\n",
       "      <td>9</td>\n",
       "    </tr>\n",
       "  </tbody>\n",
       "</table>\n",
       "</div>"
      ],
      "text/plain": [
       "             Date      Player team Opponent  Map       kd  pm  rating  \\\n",
       "380533 2012-01-11        dotpiXels    CPLAY  mrg  15 - 16  -1    0.87   \n",
       "474590 2012-01-11         gamed!de    iPLAY  trn  22 - 12  10    1.47   \n",
       "469648 2012-01-11  ALTERNATE aTTaX    CPLAY  trn  15 - 12   3    0.96   \n",
       "438636 2012-01-11        dotpiXels    CPLAY  mrg  32 - 13  19    2.19   \n",
       "485888 2012-01-12           BuyKey      ESC  inf  26 - 16  10    1.57   \n",
       "\n",
       "       player name  kd ratio  rounds won  rounds lost  Total rounds  Awper  \\\n",
       "380533      legija  0.937500          16            6            22  False   \n",
       "474590      syrson  1.833333          16            7            23   True   \n",
       "469648     krystal  1.250000          16            9            25  False   \n",
       "438636      tabsen  2.461538          16            6            22  False   \n",
       "485888      scream  1.625000          16            7            23  False   \n",
       "\n",
       "        round difference  \n",
       "380533                10  \n",
       "474590                 9  \n",
       "469648                 7  \n",
       "438636                10  \n",
       "485888                 9  "
      ]
     },
     "execution_count": 7,
     "metadata": {},
     "output_type": "execute_result"
    }
   ],
   "source": [
    "df = df.assign(Date = pd.to_datetime(df['Date']))\n",
    "df[\"round difference\"] = (df['rounds won'] - df['rounds lost'])\n",
    "df.sort_values('Date').head()"
   ]
  },
  {
   "cell_type": "code",
   "execution_count": 11,
   "metadata": {},
   "outputs": [
    {
     "data": {
      "text/html": [
       "<div>\n",
       "<style scoped>\n",
       "    .dataframe tbody tr th:only-of-type {\n",
       "        vertical-align: middle;\n",
       "    }\n",
       "\n",
       "    .dataframe tbody tr th {\n",
       "        vertical-align: top;\n",
       "    }\n",
       "\n",
       "    .dataframe thead th {\n",
       "        text-align: right;\n",
       "    }\n",
       "</style>\n",
       "<table border=\"1\" class=\"dataframe\">\n",
       "  <thead>\n",
       "    <tr style=\"text-align: right;\">\n",
       "      <th></th>\n",
       "      <th>Date</th>\n",
       "      <th>Player team</th>\n",
       "      <th>Opponent</th>\n",
       "      <th>Map</th>\n",
       "      <th>kd</th>\n",
       "      <th>pm</th>\n",
       "      <th>rating</th>\n",
       "      <th>player name</th>\n",
       "      <th>kd ratio</th>\n",
       "      <th>rounds won</th>\n",
       "      <th>rounds lost</th>\n",
       "      <th>Total rounds</th>\n",
       "      <th>Awper</th>\n",
       "      <th>standard rating</th>\n",
       "    </tr>\n",
       "  </thead>\n",
       "  <tbody>\n",
       "    <tr>\n",
       "      <th>0</th>\n",
       "      <td>2020-10-31</td>\n",
       "      <td>Golden Knights</td>\n",
       "      <td>Lyngby Vikings</td>\n",
       "      <td>nuke</td>\n",
       "      <td>17 - 21</td>\n",
       "      <td>-4</td>\n",
       "      <td>0.83</td>\n",
       "      <td>fitch</td>\n",
       "      <td>0.809524</td>\n",
       "      <td>13</td>\n",
       "      <td>16</td>\n",
       "      <td>29</td>\n",
       "      <td>False</td>\n",
       "      <td>-0.745959</td>\n",
       "    </tr>\n",
       "    <tr>\n",
       "      <th>1</th>\n",
       "      <td>2020-10-31</td>\n",
       "      <td>Golden Knights</td>\n",
       "      <td>Lyngby Vikings</td>\n",
       "      <td>mrg</td>\n",
       "      <td>14 - 20</td>\n",
       "      <td>-6</td>\n",
       "      <td>0.77</td>\n",
       "      <td>fitch</td>\n",
       "      <td>0.700000</td>\n",
       "      <td>16</td>\n",
       "      <td>12</td>\n",
       "      <td>28</td>\n",
       "      <td>False</td>\n",
       "      <td>-0.937575</td>\n",
       "    </tr>\n",
       "    <tr>\n",
       "      <th>2</th>\n",
       "      <td>2020-05-19</td>\n",
       "      <td>Syman</td>\n",
       "      <td>SG.pro</td>\n",
       "      <td>trn</td>\n",
       "      <td>8 - 20</td>\n",
       "      <td>-12</td>\n",
       "      <td>0.56</td>\n",
       "      <td>fitch</td>\n",
       "      <td>0.400000</td>\n",
       "      <td>13</td>\n",
       "      <td>16</td>\n",
       "      <td>29</td>\n",
       "      <td>False</td>\n",
       "      <td>-1.608230</td>\n",
       "    </tr>\n",
       "    <tr>\n",
       "      <th>3</th>\n",
       "      <td>2020-05-19</td>\n",
       "      <td>Syman</td>\n",
       "      <td>SG.pro</td>\n",
       "      <td>mrg</td>\n",
       "      <td>11 - 18</td>\n",
       "      <td>-7</td>\n",
       "      <td>0.61</td>\n",
       "      <td>fitch</td>\n",
       "      <td>0.611111</td>\n",
       "      <td>10</td>\n",
       "      <td>16</td>\n",
       "      <td>26</td>\n",
       "      <td>False</td>\n",
       "      <td>-1.448550</td>\n",
       "    </tr>\n",
       "    <tr>\n",
       "      <th>4</th>\n",
       "      <td>2020-05-18</td>\n",
       "      <td>Syman</td>\n",
       "      <td>LDLC</td>\n",
       "      <td>d2</td>\n",
       "      <td>13 - 19</td>\n",
       "      <td>-6</td>\n",
       "      <td>0.87</td>\n",
       "      <td>fitch</td>\n",
       "      <td>0.684211</td>\n",
       "      <td>11</td>\n",
       "      <td>16</td>\n",
       "      <td>27</td>\n",
       "      <td>False</td>\n",
       "      <td>-0.618215</td>\n",
       "    </tr>\n",
       "  </tbody>\n",
       "</table>\n",
       "</div>"
      ],
      "text/plain": [
       "        Date     Player team        Opponent   Map       kd  pm  rating  \\\n",
       "0 2020-10-31  Golden Knights  Lyngby Vikings  nuke  17 - 21  -4    0.83   \n",
       "1 2020-10-31  Golden Knights  Lyngby Vikings   mrg  14 - 20  -6    0.77   \n",
       "2 2020-05-19           Syman          SG.pro   trn   8 - 20 -12    0.56   \n",
       "3 2020-05-19           Syman          SG.pro   mrg  11 - 18  -7    0.61   \n",
       "4 2020-05-18           Syman            LDLC    d2  13 - 19  -6    0.87   \n",
       "\n",
       "  player name  kd ratio  rounds won  rounds lost  Total rounds  Awper  \\\n",
       "0       fitch  0.809524          13           16            29  False   \n",
       "1       fitch  0.700000          16           12            28  False   \n",
       "2       fitch  0.400000          13           16            29  False   \n",
       "3       fitch  0.611111          10           16            26  False   \n",
       "4       fitch  0.684211          11           16            27  False   \n",
       "\n",
       "   standard rating  \n",
       "0        -0.745959  \n",
       "1        -0.937575  \n",
       "2        -1.608230  \n",
       "3        -1.448550  \n",
       "4        -0.618215  "
      ]
     },
     "execution_count": 11,
     "metadata": {},
     "output_type": "execute_result"
    },
    {
     "data": {
      "image/png": "[encoded data removed]",
      "text/plain": [
       "<Figure size 640x480 with 1 Axes>"
      ]
     },
     "metadata": {},
     "output_type": "display_data"
    }
   ],
   "source": [
    "x = np.arange(2012, 2024)\n",
    "y = []\n",
    "y_awp = []\n",
    "y_rifle = []\n",
    "\n",
    "# determining mean performance per year and standardizing rating\n",
    "for year in x:\n",
    "    date_mask = (dt.datetime(year,1,1) < df['Date']) & (df['Date'] < dt.datetime(year,12,31))\n",
    "    y.append(df[date_mask]['rating'].mean())\n",
    "    mean_awp = df[date_mask & df['Awper']]['rating'].mean()\n",
    "    y_awp.append(mean_awp)\n",
    "    mean_rifle = df[date_mask & ~df['Awper']]['rating'].mean()\n",
    "    y_rifle.append(mean_rifle)\n",
    "\n",
    "    std_awp = df[date_mask & df['Awper']]['rating'].std()\n",
    "    std_rifle = df[date_mask & ~df['Awper']]['rating'].std()\n",
    "    \n",
    "    df.loc[date_mask & df['Awper'],'standard rating'] = (df['rating']-mean_awp) / std_awp\n",
    "    df.loc[date_mask & ~df['Awper'],'standard rating'] = (df['rating']-mean_rifle) / std_rifle\n",
    "\n",
    "plt.plot(x,y,label = 'all players')\n",
    "plt.plot(x,y_awp,label = 'Awpers')\n",
    "plt.plot(x,y_rifle,label = 'Riflers')\n",
    "plt.legend()\n",
    "plt.xlabel(\"Year\")\n",
    "plt.ylabel(\"Rating\")\n",
    "plt.title(\"Average yearly rating\")\n",
    "df.head()"
   ]
  },
  {
   "attachments": {},
   "cell_type": "markdown",
   "metadata": {
    "pycharm": {
     "name": "#%% md\n"
    }
   },
   "source": [
    "## Hypothesis Testing\n",
    "\n",
    "Here in order to help quantify how good player performance is, we look at how well corellated a player's rating is with winning rounds"
   ]
  },
  {
   "cell_type": "code",
   "execution_count": 55,
   "metadata": {
    "pycharm": {
     "name": "#%%\n"
    }
   },
   "outputs": [
    {
     "name": "stderr",
     "output_type": "stream",
     "text": [
      "100%|██████████| 839/839 [00:27<00:00, 30.52it/s]\n"
     ]
    }
   ],
   "source": [
    "win_correlation = {}\n",
    "subset = df[(df['Date'] > dt.datetime(2022,9,7)) & (df['Date'] < dt.datetime(2025,1,7))]\n",
    "subset = df\n",
    "for player in tqdm(players):\n",
    "    filtered = subset[subset[\"player name\"] == player]\n",
    "    try:\n",
    "        slope, intercept, r_value, p_value, std_err = linregress(filtered[\"rating\"], filtered[\"round difference\"])\n",
    "        win_correlation[player] = r_value\n",
    "    except:\n",
    "        ...\n"
   ]
  },
  {
   "cell_type": "code",
   "execution_count": 59,
   "metadata": {
    "collapsed": false,
    "pycharm": {
     "name": "#%%\n"
    }
   },
   "outputs": [
    {
     "data": {
      "image/png": "[encoded data removed]",
      "text/plain": [
       "<Figure size 640x480 with 1 Axes>"
      ]
     },
     "metadata": {},
     "output_type": "display_data"
    }
   ],
   "source": [
    "standard = (np.array(list(win_correlation.values()))-np.mean(list(win_correlation.values())))/np.std(list(win_correlation.values()))\n",
    "standard_correl = dict(zip(win_correlation.keys(), standard))\n",
    "\n",
    "\n",
    "\n",
    "plt.hist(win_correlation.values(), bins=20)\n",
    "plt.xlabel(\"Correlation\")\n",
    "plt.ylabel(\"Frequency\")\n",
    "plt.title(\"Correlation between round differential and rating\")\n",
    "plt.show()"
   ]
  },
  {
   "cell_type": "code",
   "execution_count": null,
   "metadata": {
    "collapsed": false,
    "pycharm": {
     "name": "#%%\n"
    }
   },
   "outputs": [],
   "source": []
  }
 ],
 "metadata": {
  "kernelspec": {
   "display_name": "Python 3 (ipykernel)",
   "language": "python",
   "name": "python3"
  },
  "language_info": {
   "codemirror_mode": {
    "name": "ipython",
    "version": 3
   },
   "file_extension": ".py",
   "mimetype": "text/x-python",
   "name": "python",
   "nbconvert_exporter": "python",
   "pygments_lexer": "ipython3",
   "version": "3.7.16"
  }
 },
 "nbformat": 4,
 "nbformat_minor": 2
}
